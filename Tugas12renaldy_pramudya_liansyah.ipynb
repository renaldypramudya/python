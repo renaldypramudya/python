{
  "nbformat": 4,
  "nbformat_minor": 0,
  "metadata": {
    "colab": {
      "name": "Tugas12renaldy pramudya liansyah.ipynb",
      "provenance": [],
      "include_colab_link": true
    },
    "kernelspec": {
      "name": "python3",
      "display_name": "Python 3"
    }
  },
  "cells": [
    {
      "cell_type": "markdown",
      "metadata": {
        "id": "view-in-github",
        "colab_type": "text"
      },
      "source": [
        "<a href=\"https://colab.research.google.com/github/renaldypramudya/python/blob/main/Tugas12renaldy_pramudya_liansyah.ipynb\" target=\"_parent\"><img src=\"https://colab.research.google.com/assets/colab-badge.svg\" alt=\"Open In Colab\"/></a>"
      ]
    },
    {
      "cell_type": "code",
      "metadata": {
        "id": "pbXBYN93nh6v"
      },
      "source": [
        "import numpy as np"
      ],
      "execution_count": 1,
      "outputs": []
    },
    {
      "cell_type": "code",
      "metadata": {
        "id": "tMhEVnR9sdGo"
      },
      "source": [
        "def ploss(d,fc,ht,hr,area):\r\n",
        "# Menentukan nilai C1 dan C2\r\n",
        "  if fc in range(400,1500):\r\n",
        "    C1 = 69.55\r\n",
        "    C2 = 26.16\r\n",
        "  elif fc in range(1501, 2000):\r\n",
        "    C1 = 46.33\r\n",
        "    C2 = 33.9\r\n",
        "#Menentukan nilai CM sesuai area\r\n",
        "  if (area==1):\r\n",
        "    Cm = 0\r\n",
        "  elif (area==2):\r\n",
        "    Cm = -2*np.log10(fc/28)**2 - 5.4\r\n",
        "  elif (area==3):\r\n",
        "    Cm = -4.78*np.log10(fc)**2 + 18.33*np.log10(fc) - 40.94\r\n",
        "#Menentukan nilai a\r\n",
        "  a = (1.1*np.log10(fc)-0.7)*hr - (1.56*np.log10(fc) - 0.8)\r\n",
        "#Rumus PATHLOSS MODEL COST 231\r\n",
        "  Lp = C1 + C2*np.log10(fc) - 13.83*np.log10(ht) - a + (44.9 - 6.55*np.log10(ht))*np.log10(d) + Cm\r\n",
        "  return Lp"
      ],
      "execution_count": 2,
      "outputs": []
    },
    {
      "cell_type": "code",
      "metadata": {
        "colab": {
          "base_uri": "https://localhost:8080/"
        },
        "id": "dD1He6A7sgET",
        "outputId": "cd139724-c631-4c94-a53f-09fc2d5d57ae"
      },
      "source": [
        "pathloss = ploss(1000,1000,50,25,1)\r\n",
        "print(\"Pathloss dalam db =\",pathloss,\"dB\")"
      ],
      "execution_count": 3,
      "outputs": [
        {
          "output_type": "stream",
          "text": [
            "Pathloss dalam db = 164.72848425483008 dB\n"
          ],
          "name": "stdout"
        }
      ]
    }
  ]
}