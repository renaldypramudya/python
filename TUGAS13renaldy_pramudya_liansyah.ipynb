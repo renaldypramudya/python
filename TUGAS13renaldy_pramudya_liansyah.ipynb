{
  "nbformat": 4,
  "nbformat_minor": 0,
  "metadata": {
    "colab": {
      "name": "TUGAS13renaldy pramudya liansyah",
      "provenance": [],
      "include_colab_link": true
    },
    "kernelspec": {
      "name": "python3",
      "display_name": "Python 3"
    }
  },
  "cells": [
    {
      "cell_type": "markdown",
      "metadata": {
        "id": "view-in-github",
        "colab_type": "text"
      },
      "source": [
        "<a href=\"https://colab.research.google.com/github/renaldypramudya/python/blob/main/TUGAS13renaldy_pramudya_liansyah.ipynb\" target=\"_parent\"><img src=\"https://colab.research.google.com/assets/colab-badge.svg\" alt=\"Open In Colab\"/></a>"
      ]
    },
    {
      "cell_type": "markdown",
      "metadata": {
        "id": "6TrGZpCYQbZl"
      },
      "source": [
        "# Tugas13 renaldy pramudya liansyah-1101184392\r\n"
      ]
    },
    {
      "cell_type": "markdown",
      "metadata": {
        "id": "bJvxhpbvwZIv"
      },
      "source": [
        "# Grafik 1 - FREKUENSI 1800 Mhz"
      ]
    },
    {
      "cell_type": "code",
      "metadata": {
        "id": "_a_N7F-JBnG8"
      },
      "source": [
        "import numpy as np\n",
        "import matplotlib.pyplot as plt\n"
      ],
      "execution_count": 1,
      "outputs": []
    },
    {
      "cell_type": "code",
      "metadata": {
        "id": "EJUGiqITQfx5"
      },
      "source": [
        "def cos(frek,tipe,ht,hr,d):\n",
        "    if frek in range(150,1501):\n",
        "        Ca=69.55\n",
        "        Cb=26.16\n",
        "    elif frek in range(1501,2001):\n",
        "        Ca=46.3\n",
        "        Cb=33.9\n",
        "    \n",
        "    if tipe=='urban' :\n",
        "        Cm=0\n",
        "    elif tipe=='suburban' :\n",
        "        Cm= -2*((np.log10((frek/28)**2))-5.4)\n",
        "    elif tipe=='open' :\n",
        "        Cm= -4.78*(np.log10(frek))+18.33*(np.log10(frek))-40.94\n",
        "    else :\n",
        "        Cm='tipe salah'\n",
        "    \n",
        "    ahr = (1.1*np.log10(frek)-0.7)*hr-(1.56*np.log10(frek)-1.8)\n",
        "    Lp = Ca+(Cb*np.log10(frek))-(13.83*np.log(ht))-ahr+((44.9-6.55*np.log10(ht))*np.log10(d))-Cm\n",
        "    \n",
        "    return Lp"
      ],
      "execution_count": 2,
      "outputs": []
    },
    {
      "cell_type": "code",
      "metadata": {
        "id": "53d-Ye-LQlXh"
      },
      "source": [
        "f=1800 #MHz\n",
        "loc='urban'\n",
        "loc2='suburban'\n",
        "loc3='open'\n",
        "tower=80 #m\n",
        "user=1.5 #m\n",
        "dmin=200 #m\n",
        "dmax=700 #m\n",
        "N=200 #titik\n",
        "d=np.random.randint(dmin,dmax,N)"
      ],
      "execution_count": 3,
      "outputs": []
    },
    {
      "cell_type": "code",
      "metadata": {
        "colab": {
          "base_uri": "https://localhost:8080/"
        },
        "id": "qhdPl7JETiqL",
        "outputId": "cce4f7b2-b23b-4f80-89a4-dd87b1a5b7ba"
      },
      "source": [
        "print(d)"
      ],
      "execution_count": 4,
      "outputs": [
        {
          "output_type": "stream",
          "text": [
            "[411 694 513 681 507 590 664 635 628 301 497 385 232 492 568 437 624 266\n",
            " 371 488 514 514 564 608 670 331 304 442 200 331 595 200 535 450 478 628\n",
            " 544 572 407 203 404 442 399 226 522 673 681 577 526 393 225 682 451 243\n",
            " 213 483 637 647 630 652 621 265 527 306 310 545 274 520 610 436 442 224\n",
            " 443 358 334 286 690 208 394 522 279 499 515 291 521 487 505 461 389 489\n",
            " 229 605 456 260 244 522 458 228 435 691 612 540 409 359 341 411 406 695\n",
            " 453 581 281 547 257 424 621 401 358 309 355 485 256 380 643 520 308 496\n",
            " 560 542 640 508 524 623 345 471 344 225 665 277 305 211 280 422 681 265\n",
            " 366 269 695 694 653 656 554 272 347 300 204 632 542 492 441 270 603 373\n",
            " 625 215 599 269 431 610 481 570 596 487 208 228 694 594 566 632 389 347\n",
            " 306 543 224 236 561 609 228 462 345 622 634 464 604 432 571 682 349 437\n",
            " 207 441]\n"
          ],
          "name": "stdout"
        }
      ]
    },
    {
      "cell_type": "code",
      "metadata": {
        "id": "IgW6t5oSRMBQ"
      },
      "source": [
        "LpUrban=cos(f,loc,tower,user,d)\r\n",
        "LpSuburban=cos(f,loc2,tower,user,d)\r\n",
        "LpOpen=cos(f,loc3,tower,user,d)"
      ],
      "execution_count": 5,
      "outputs": []
    },
    {
      "cell_type": "code",
      "metadata": {
        "id": "MbvWh9qIRkKJ"
      },
      "source": [
        "d_sort=d[np.argsort(d)]\n",
        "Urban_sort=LpUrban[np.argsort(d)]\n",
        "Suburban_sort=LpSuburban[np.argsort(d)]\n",
        "Open_sort=LpOpen[np.argsort(d)]"
      ],
      "execution_count": 6,
      "outputs": []
    },
    {
      "cell_type": "markdown",
      "metadata": {
        "id": "fqJ4Fx86Njge"
      },
      "source": [
        "# Gambar Kurva"
      ]
    },
    {
      "cell_type": "code",
      "metadata": {
        "colab": {
          "base_uri": "https://localhost:8080/",
          "height": 295
        },
        "id": "79YaOB0uSBn6",
        "outputId": "9f3da790-16cd-4ed8-daca-14c5ada972ce"
      },
      "source": [
        "plt.figure()\n",
        "plt.plot(d_sort,Urban_sort,'r-', label='Urban')\n",
        "plt.plot(d_sort,Suburban_sort,'k-', label='Suburban')\n",
        "plt.plot(d_sort,Open_sort,'g-', label='Open')\n",
        "plt.legend()\n",
        "plt.title('Frekuensi 1800 MHz')\n",
        "plt.xlabel('Jarak (m)')\n",
        "plt.ylabel('Path Loss (dB)')\n",
        "plt.show()\n"
      ],
      "execution_count": 7,
      "outputs": [
        {
          "output_type": "display_data",
          "data": {
            "image/png": "[encoded data removed]",
            "text/plain": [
              "<Figure size 432x288 with 1 Axes>"
            ]
          },
          "metadata": {
            "tags": [],
            "needs_background": "light"
          }
        }
      ]
    },
    {
      "cell_type": "markdown",
      "metadata": {
        "id": "19wUqWa9woIn"
      },
      "source": [
        "# Grafik 2 - Model Urban"
      ]
    },
    {
      "cell_type": "code",
      "metadata": {
        "id": "Zk1jSdPexLIp"
      },
      "source": [
        "f=700 #MHz\n",
        "f2=900 #MHz\n",
        "f3=1800 #MHz\n",
        "loc='urban'\n",
        "tower=80 #m\n",
        "user=1.5 #m\n",
        "dmin=200 #m\n",
        "dmax=700 #m\n",
        "N=200 #titik\n",
        "d=np.random.randint(dmin,dmax,N)"
      ],
      "execution_count": 8,
      "outputs": []
    },
    {
      "cell_type": "code",
      "metadata": {
        "id": "Y1iMo8EvwyuB"
      },
      "source": [
        "LpUrban=cos(f,loc,tower,user,d)\r\n",
        "LpUrban2=cos(f2,loc,tower,user,d)\r\n",
        "LpUrban3=cos(f3,loc,tower,user,d)"
      ],
      "execution_count": 9,
      "outputs": []
    },
    {
      "cell_type": "code",
      "metadata": {
        "id": "AmH-XbCqxfa5"
      },
      "source": [
        "d_sort=d[np.argsort(d)]\r\n",
        "Urban_sort=LpUrban[np.argsort(d)]\r\n",
        "Urban2_sort=LpUrban2[np.argsort(d)]\r\n",
        "Urban3_sort=LpUrban3[np.argsort(d)]"
      ],
      "execution_count": 10,
      "outputs": []
    },
    {
      "cell_type": "markdown",
      "metadata": {
        "id": "myQOO0170ERp"
      },
      "source": [
        "# Gambar Kurva "
      ]
    },
    {
      "cell_type": "code",
      "metadata": {
        "colab": {
          "base_uri": "https://localhost:8080/",
          "height": 295
        },
        "id": "SVEprCkIyFnx",
        "outputId": "d4109453-e61c-4d80-f7d4-8ad4ebbbf0c6"
      },
      "source": [
        "plt.figure()\n",
        "plt.plot(d_sort,Urban_sort,'r-', label='700 Mhz')\n",
        "plt.plot(d_sort,Urban2_sort,'k-', label='900 Mhz')\n",
        "plt.plot(d_sort,Urban3_sort,'g-', label='1800 Mhz')\n",
        "plt.legend()\n",
        "plt.title('Model Urban')\n",
        "plt.xlabel('Jarak (m)')\n",
        "plt.ylabel('Path Loss (dB)')\n",
        "plt.show()\n"
      ],
      "execution_count": 11,
      "outputs": [
        {
          "output_type": "display_data",
          "data": {
            "image/png": "[encoded data removed]",
            "text/plain": [
              "<Figure size 432x288 with 1 Axes>"
            ]
          },
          "metadata": {
            "tags": [],
            "needs_background": "light"
          }
        }
      ]
    }
  ]
}